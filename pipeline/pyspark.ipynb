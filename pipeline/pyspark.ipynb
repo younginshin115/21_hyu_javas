{
 "cells": [
  {
   "cell_type": "code",
   "execution_count": null,
   "metadata": {},
   "outputs": [],
   "source": [
    "pyspark --packages org.apache.spark:spark-sql-kafka-0-10_2.12:3.1.2"
   ]
  },
  {
   "cell_type": "code",
   "execution_count": null,
   "metadata": {},
   "outputs": [],
   "source": [
    "from pyspark.sql.functions import *\n",
    "from pyspark.sql.types import *\n"
   ]
  },
  {
   "cell_type": "code",
   "execution_count": null,
   "metadata": {},
   "outputs": [],
   "source": [
    "sc.addFile(\"/home/adminuser/mymodel/emotion0628.py\")\n",
    "import emotion0628"
   ]
  },
  {
   "cell_type": "code",
   "execution_count": null,
   "metadata": {},
   "outputs": [],
   "source": [
    "sc.addFile(\"/home/adminuser/mymodel/abuse0628.py\")\n",
    "import abuse0628"
   ]
  },
  {
   "cell_type": "code",
   "execution_count": null,
   "metadata": {},
   "outputs": [],
   "source": [
    "df_raw = spark \\\n",
    ".readStream \\\n",
    ".format('kafka') \\\n",
    ".option('kafka.bootstrap.servers', 'localhost:9092') \\\n",
    ".option(\"startingOffsets\", \"earliest\") \\\n",
    ".option('subscribe', 'inputchat') \\\n",
    ".load()\n"
   ]
  },
  {
   "cell_type": "code",
   "execution_count": null,
   "metadata": {},
   "outputs": [],
   "source": [
    "json_data = df_raw.selectExpr('CAST(value AS STRING) as value')"
   ]
  },
  {
   "cell_type": "code",
   "execution_count": null,
   "metadata": {},
   "outputs": [],
   "source": [
    "schema = StructType([ \\\n",
    "StructField(\"video_id\",StringType(),True), \\\n",
    "StructField(\"user_name\",StringType(),True), \\\n",
    "StructField(\"chat_id\",StringType(),True), \\\n",
    "StructField(\"chat_text\",StringType(),True), \\\n",
    "StructField(\"h_token\", ArrayType(StringType()),True), \\\n",
    "StructField(\"modified_text\",StringType(),True), \\\n",
    "StructField(\"noun_token\",ArrayType(StringType(),True)), \\\n",
    "StructField(\"chat_time\", TimestampType(),True)\n",
    "])"
   ]
  },
  {
   "cell_type": "code",
   "execution_count": null,
   "metadata": {},
   "outputs": [],
   "source": [
    "df_data = json_data.select(from_json(col(\"value\"), schema).alias('data'))"
   ]
  },
  {
   "cell_type": "code",
   "execution_count": null,
   "metadata": {},
   "outputs": [],
   "source": [
    "df_data.withColumn(\"emotion\",lit(emotion0628.sentiment_predict(\"data.h_token\"))) \\\n",
    ".withColumn(\"abuse\",lit(abuse0628.slang_predict(\"data.h_token\"))) \\\n",
    ".selectExpr(\"CAST(data AS STRING) AS key\", \"to_json(struct(*)) AS value\") \\\n",
    ".writeStream    \\\n",
    ".format('kafka') \\\n",
    ".option('kafka.bootstrap.servers', 'localhost:9092') \\\n",
    ".option('topic', 'outchat') \\\n",
    ".option(\"truncate\", False).option(\"checkpointLocation\", \"/tmp/dtn/checkpoint\") \\\n",
    ".start().awaitTermination()"
   ]
  }
 ],
 "metadata": {
  "kernelspec": {
   "display_name": "Python 3",
   "language": "python",
   "name": "python3"
  },
  "language_info": {
   "codemirror_mode": {
    "name": "ipython",
    "version": 3
   },
   "file_extension": ".py",
   "mimetype": "text/x-python",
   "name": "python",
   "nbconvert_exporter": "python",
   "pygments_lexer": "ipython3",
   "version": "3.8.5"
  }
 },
 "nbformat": 4,
 "nbformat_minor": 4
}